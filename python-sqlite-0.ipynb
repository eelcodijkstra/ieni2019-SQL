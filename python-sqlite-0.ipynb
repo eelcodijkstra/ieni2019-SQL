{
 "cells": [
  {
   "cell_type": "markdown",
   "metadata": {},
   "source": [
    "## Over deze opdrachten\n",
    "\n",
    "* dit is Jupyter Notebook `python-sqlite-0.ipynb` - voor het aanmaken van de database.\n",
    "* voor een inleiding over het gebruik van Jupyter Notebooks: [Inleiding Jupyter Notebook](Inleiding-Jupyter.ipynb)\n",
    "* de hele reeks Python SQlite opdrachten:\n",
    "    * [Python SQLite - init database](python-sqlite-0.ipynb) (om met een schone lei te beginnnen)\n",
    "    * [Python SQLite - selectie en projectie](python-sqlite-1.ipynb)    \n",
    "    * [Python SQLite - joins](python-sqlite-2.ipynb)\n",
    "    * [Python SQLite - CRUD](python-sqlite-3.ipynb)\n",
    "    * [Python SQLite - Schema](python-sqlite-4.ipynb)\n",
    "    \n",
    " ### Voorbeeld\n",
    " \n",
    " Bij deze opdrachten gebruiken we een voorbeeld-database met drie tabellen: `leden`, `inschrijvingen`, en `events`.\n",
    " Deze database komt uit een webtoepassing; deze vind je op glitch.com. REF\n",
    " Daar kun je de toepassing bekijken, uitproberen, en er een eigen versie (\"remix\") van maken."
   ]
  },
  {
   "cell_type": "markdown",
   "metadata": {},
   "source": [
    "## Aanmaken van de database"
   ]
  },
  {
   "cell_type": "markdown",
   "metadata": {},
   "source": [
    "In de volgende opdrachten voer je allerlei queries uit op een database.\n",
    "Je moeten dan eerst wel een database met inhoud hebben.\n",
    "Met de onderstaande opdrachten maak je deze database.\n",
    "Deze opdrachten hoef je maar één keer uit te voeren: de database blijft bestaan, met je veranderingen.\n",
    "Je kunt deze opdrachten ook uitvoeren om opnieuw te beginnen, in een goed gedefinieerde toestand."
   ]
  },
  {
   "cell_type": "code",
   "execution_count": null,
   "metadata": {},
   "outputs": [],
   "source": [
    "import sqlite3\n",
    "db = sqlite3.connect('example.db')\n",
    "cursor = db.cursor()"
   ]
  },
  {
   "cell_type": "markdown",
   "metadata": {},
   "source": [
    "We maken de tabel(len) aan.\n",
    "We verwijderen eerst een eventueel bestaande versie van de tabel(len):\n",
    "we hebben dan een goed gedefinieerde toestand.\n",
    "\n",
    "> Opmerking: er zijn kleine verschillen in de notatie van de constraints bij het aanmaken van een tabel; MySQL gebruikt bijvoorbeeld een andere notatie dan Oracle."
   ]
  },
  {
   "cell_type": "markdown",
   "metadata": {},
   "source": [
    "### Eerste tabel: leden"
   ]
  },
  {
   "cell_type": "code",
   "execution_count": null,
   "metadata": {},
   "outputs": [],
   "source": [
    "cursor.execute('''DROP TABLE IF EXISTS leden;''')\n",
    "cursor.execute('''CREATE TABLE leden(\n",
    "                    lidnr INTEGER PRIMARY KEY,\n",
    "                    voornaam VARCHAR(255) NOT NULL,\n",
    "                    achternaam VARCHAR(255) NOT NULL,\n",
    "                    email VARCHAR(255) NOT NULL UNIQUE\n",
    "                  );''')"
   ]
  },
  {
   "cell_type": "markdown",
   "metadata": {},
   "source": [
    "We hebben een voorbeeld-inhoud van de tabel(len) in csv-bestanden.\n",
    "Zo'n csv-bestand kun je gemakkelijk aanpassen in een teksteditor.\n",
    "Voor het importeren van een csv-bestand gebruiken we een speciale SQLite-opdracht, via de shell.\n",
    "(Een alternatief is om dit bestand te importeren via pandas.)"
   ]
  },
  {
   "cell_type": "code",
   "execution_count": null,
   "metadata": {},
   "outputs": [],
   "source": [
    "%%bash\n",
    "sqlite3 example.db\n",
    ".mode csv\n",
    ".import leden.csv leden"
   ]
  },
  {
   "cell_type": "markdown",
   "metadata": {},
   "source": [
    "Hieronder een voorbeeld van een SQL-opdracht die we rechtstreeks in SQLite uitvoeren."
   ]
  },
  {
   "cell_type": "code",
   "execution_count": null,
   "metadata": {},
   "outputs": [],
   "source": [
    "%%bash\n",
    "sqlite3 example.db\n",
    "SELECT * FROM leden;"
   ]
  },
  {
   "cell_type": "markdown",
   "metadata": {},
   "source": [
    "Eenzelfde opdracht, nu als onderdeel van een Python-programma:"
   ]
  },
  {
   "cell_type": "code",
   "execution_count": null,
   "metadata": {},
   "outputs": [],
   "source": [
    "cursor.execute('''SELECT * FROM leden;''')\n",
    "for row in cursor:\n",
    "    print(row)"
   ]
  },
  {
   "cell_type": "markdown",
   "metadata": {},
   "source": [
    "### Tweede tabel: events\n",
    "\n",
    "De tabel `events` bevat de events waarvoor de leden kunnen inschrijven.\n",
    "Elk event heeft een datum en een beschrijving.\n",
    "\n",
    "Hiervoor volgen we hetzelfde patroon:"
   ]
  },
  {
   "cell_type": "code",
   "execution_count": null,
   "metadata": {},
   "outputs": [],
   "source": [
    "cursor.execute('''DROP TABLE IF EXISTS events;''')\n",
    "cursor.execute('''CREATE TABLE events(\n",
    "                  eventnr INTEGER, \n",
    "                  datum VARCHAR(255) NOT NULL,\n",
    "                  beschrijving VARCHAR(255),\n",
    "                  PRIMARY KEY (eventnr),\n",
    "                  CONSTRAINT name UNIQUE (datum, beschrijving)\n",
    "                  );''')"
   ]
  },
  {
   "cell_type": "code",
   "execution_count": null,
   "metadata": {},
   "outputs": [],
   "source": [
    "%%bash\n",
    "sqlite3 example.db\n",
    ".mode csv\n",
    ".import events.csv events"
   ]
  },
  {
   "cell_type": "code",
   "execution_count": null,
   "metadata": {},
   "outputs": [],
   "source": [
    "cursor.execute('''SELECT * FROM events;''')\n",
    "for row in cursor:\n",
    "    print(row)"
   ]
  },
  {
   "cell_type": "markdown",
   "metadata": {},
   "source": [
    "### Derde tabel: inschrijvingen\n",
    "\n",
    "Deze tabel beschrijft een N-M relatie tussen leden en inschrijvingen.\n",
    "Naast de verwijzingen (via *foreign keys*) naar de andere tabellen vindt je hier de gegevens over de inschrijving (maaltijd-keuze)."
   ]
  },
  {
   "cell_type": "code",
   "execution_count": null,
   "metadata": {},
   "outputs": [],
   "source": [
    "cursor.execute('''DROP TABLE IF EXISTS inschrijvingen;''')\n",
    "cursor.execute('''CREATE TABLE inschrijvingen(\n",
    "                  eventnr INTEGER, \n",
    "                  lidnr INTEGER,\n",
    "                  maaltijd VARCHAR(255),\n",
    "                  PRIMARY KEY (lidnr, eventnr),\n",
    "                  FOREIGN KEY (lidnr) REFERENCES leden (lidnr),\n",
    "                  FOREIGN KEY (eventnr) REFERENCES events (eventnr)\n",
    "                  );''')"
   ]
  },
  {
   "cell_type": "code",
   "execution_count": null,
   "metadata": {},
   "outputs": [],
   "source": [
    "%%bash\n",
    "sqlite3 example.db\n",
    ".mode csv\n",
    ".import inschrijvingen.csv inschrijvingen"
   ]
  },
  {
   "cell_type": "code",
   "execution_count": null,
   "metadata": {},
   "outputs": [],
   "source": [
    "cursor.execute('''SELECT * FROM inschrijvingen;''')\n",
    "for row in cursor:\n",
    "    print(row)"
   ]
  },
  {
   "cell_type": "markdown",
   "metadata": {},
   "source": [
    "### Demonstratie: alle inschrijvingen\n",
    "\n",
    "Voor een overzicht van alle inschrijvingen met de gegevens van de leden en van de events gebruiken  we een join. \n",
    "Dit is een voorproefje - in een volgend notebook werken we dit verder uit."
   ]
  },
  {
   "cell_type": "code",
   "execution_count": null,
   "metadata": {},
   "outputs": [],
   "source": [
    "cursor.execute('''SELECT evt.datum, evt.beschrijving, lid.voornaam, lid.achternaam, lid.email, ins.maaltijd\n",
    "                  FROM inschrijvingen ins, events evt, leden lid \n",
    "                  WHERE ins.lidnr = lid.lidnr AND ins.eventnr = evt.eventnr;''')\n",
    "for row in cursor:\n",
    "    print(row)"
   ]
  },
  {
   "cell_type": "code",
   "execution_count": null,
   "metadata": {},
   "outputs": [],
   "source": [
    "db.commit()\n",
    "db.close()"
   ]
  },
  {
   "cell_type": "code",
   "execution_count": null,
   "metadata": {},
   "outputs": [],
   "source": []
  }
 ],
 "metadata": {
  "kernelspec": {
   "display_name": "Python 3",
   "language": "python",
   "name": "python3"
  },
  "language_info": {
   "codemirror_mode": {
    "name": "ipython",
    "version": 3
   },
   "file_extension": ".py",
   "mimetype": "text/x-python",
   "name": "python",
   "nbconvert_exporter": "python",
   "pygments_lexer": "ipython3",
   "version": "3.7.3"
  }
 },
 "nbformat": 4,
 "nbformat_minor": 4
}
