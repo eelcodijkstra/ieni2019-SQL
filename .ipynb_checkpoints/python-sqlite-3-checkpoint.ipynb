{
 "cells": [
  {
   "cell_type": "markdown",
   "metadata": {},
   "source": [
    "## Over deze opdrachten\n",
    "\n",
    "* dit is Jupyter Notebook `python-sqlite-3.ipynb` - CRUD.\n",
    "* voor een inleiding over het gebruik van Jupyter Notebooks: [Inleiding Jupyter Notebook](Inleiding-Jupyter.ipynb)\n",
    "* de hele reeks Python SQlite opdrachten:\n",
    "    * [Python SQLite - init database](python-sqlite-0.ipynb) (om met een schone lei te beginnnen)\n",
    "    * [Python SQLite - selectie en projectie](python-sqlite-1.ipynb)    \n",
    "    * [Python SQLite - joins](python-sqlite-2.ipynb)\n",
    "    * [Python SQLite - CRUD](python-sqlite-3.ipynb)\n",
    "    * [Python SQLite - Schema](python-sqlite-4.ipynb)"
   ]
  },
  {
   "cell_type": "markdown",
   "metadata": {},
   "source": [
    "## Database connection en cursor\n",
    "\n",
    "De eerste stap in het gebruik van database-opdrachten in Python is het maken van een verbinding (connection) met de database.\n",
    "Met behulp van deze connection maak je een cursor-object, waarmee je de database-queries kunt uitvoeren.\n",
    "\n",
    "Bij veranderingen in de database is het belangrijk om `db.commit()` uit te voeren: de veranderingen worden daarmee permanent gemaakt."
   ]
  },
  {
   "cell_type": "code",
   "execution_count": null,
   "metadata": {},
   "outputs": [],
   "source": [
    "import sqlite3\n",
    "db = sqlite3.connect('example.db')\n",
    "cursor = db.cursor()"
   ]
  },
  {
   "cell_type": "markdown",
   "metadata": {},
   "source": [
    "----"
   ]
  },
  {
   "cell_type": "markdown",
   "metadata": {},
   "source": [
    "## CRUD"
   ]
  },
  {
   "cell_type": "markdown",
   "metadata": {},
   "source": [
    "Met het acroniem CRUD geven we de basisoperaties op een database aan: Create, Read, Update, en Delete.\n",
    "Hieronder geven we de SQL-opdrachten die daarmee overeenkomen. We geven daarbij ook aan hoe deze samenhangen met eventuele constraints van de database.\n",
    "\n",
    "De CRD-operaties veranderen de database: je maakt deze veranderingen permanent met behulp van `db.commit()`. Vergeet deze niet in je programma's! Je kunt meerdere CRD-operaties combineren voor deze commit: je krijgt dan een *transactie* die uit meerdere opdrachten bestaat."
   ]
  },
  {
   "cell_type": "markdown",
   "metadata": {},
   "source": [
    "### Create (INSERT)\n",
    "\n",
    "Met de INSERT opdracht voegen we een nieuwe rij aan een tabel toe (create):"
   ]
  },
  {
   "cell_type": "code",
   "execution_count": null,
   "metadata": {},
   "outputs": [],
   "source": [
    "lid = ('Erica', 'Bezos', 'erica@amazon.com')\n",
    "cursor.execute('''INSERT INTO leden (voornaam, achternaam, email)\n",
    "                  VALUES (?, ?, ?);''', \n",
    "                  lid)"
   ]
  },
  {
   "cell_type": "code",
   "execution_count": null,
   "metadata": {},
   "outputs": [],
   "source": [
    "cursor.execute('''SELECT * FROM leden''')\n",
    "for row in cursor:\n",
    "    print(row)"
   ]
  },
  {
   "cell_type": "markdown",
   "metadata": {},
   "source": [
    "Nogmaals uitvoeren geeft een IntegrityError (exception):\n",
    "we hebben immers aangegeven dat het `email`-adres uniek moet zijn (zie de definitie van de leden-tabel)."
   ]
  },
  {
   "cell_type": "code",
   "execution_count": null,
   "metadata": {},
   "outputs": [],
   "source": [
    "lid = ('Erica', 'Bezos', 'erica@amazon.com')\n",
    "cursor.execute('''INSERT INTO leden (voornaam, achternaam, email)\n",
    "                  VALUES (?, ?, ?);''', \n",
    "                  lid)"
   ]
  },
  {
   "cell_type": "markdown",
   "metadata": {},
   "source": [
    "Met behulp van het Python exception-mechamisme kunnen we dergelijke fouten opvangen,\n",
    "en eventueel omzetten in een andere foutmelding - bijvoorbeeld een foutmelding naar de gebruiker,\n",
    "dat hij zich al eerder aangemeld heeft."
   ]
  },
  {
   "cell_type": "code",
   "execution_count": null,
   "metadata": {},
   "outputs": [],
   "source": [
    "lid = ('Erica', 'Bezos', 'erica@amazon.com')\n",
    "try:\n",
    "    cursor.execute('''INSERT INTO leden (voornaam, achternaam, email) \n",
    "                  VALUES (?, ?, ?);''', \n",
    "                  lid)\n",
    "except sqlite3.IntegrityError as e:\n",
    "    print(e)\n",
    "    print('Een gebruiker met email-adres \"{2}\" is al eerder aangemeld'.format(*lid))"
   ]
  },
  {
   "cell_type": "markdown",
   "metadata": {},
   "source": [
    "**Opmerking** de Python splat-operatie `*lid` zet de lijst `lid` om in een lijst van parameters - hier voor `format`."
   ]
  },
  {
   "cell_type": "markdown",
   "metadata": {},
   "source": [
    "### Read (SELECT)\n",
    "\n",
    "Met de SELECT-opdracht zoals we hierboven gebruikt hebben kun je de data uit de database lezen.\n",
    "Het resultaat van SELECT is altijd een tabel; in sommige gevallen bestaat deze uit 1 rij, als we een bestaande rij willen lezen. Soms is de tabel leeg: er zijn dan geen rijen gevonden die aan de voorwaarde voldoen."
   ]
  },
  {
   "cell_type": "markdown",
   "metadata": {},
   "source": [
    "## Update (UPDATE)\n",
    "\n",
    "Met de UPDATE opdracht kun je een bestaande rij selectief veranderen.\n",
    "In het onderstaande voorbeeld passen we de maaltijd-waarde aan:"
   ]
  },
  {
   "cell_type": "code",
   "execution_count": null,
   "metadata": {},
   "outputs": [],
   "source": [
    "rename = ('Janny', 'Jantien')\n",
    "cursor.execute('''UPDATE leden\n",
    "                  SET voornaam= ?\n",
    "                  WHERE voornaam= ?;''',\n",
    "                  rename)"
   ]
  },
  {
   "cell_type": "code",
   "execution_count": null,
   "metadata": {},
   "outputs": [],
   "source": [
    "cursor.execute('''SELECT * FROM leden;''')\n",
    "for row in cursor:\n",
    "    print(row)"
   ]
  },
  {
   "cell_type": "markdown",
   "metadata": {},
   "source": [
    "**Opdracht**\n",
    "\n",
    "* Ga na dat herhalen van deze opdracht hetzelfde resultaat oplevert.\n",
    "* Ga na dat een update voor een lege selectie geen foutmelding oplevert.\n",
    "* Ga na of je in een UPDATE opdracht meerdere rijen kunt veranderen. Kun je bijvoorbeeld alle \"Marie\"-s veranderen in \"Maria\"-s?"
   ]
  },
  {
   "cell_type": "markdown",
   "metadata": {},
   "source": [
    "### Delete (DELETE)\n",
    "\n",
    "Met de DELETE opdracht verwijder je een rij uit de database."
   ]
  },
  {
   "cell_type": "code",
   "execution_count": null,
   "metadata": {},
   "outputs": [],
   "source": [
    "selection = ('Erica', 'Bezos')\n",
    "cursor.execute('''DELETE FROM leden\n",
    "                  WHERE voornaam=? and achternaam=?;''',\n",
    "                  selection)"
   ]
  },
  {
   "cell_type": "code",
   "execution_count": null,
   "metadata": {},
   "outputs": [],
   "source": [
    "cursor.execute('''SELECT * FROM leden;''')\n",
    "for row in cursor:\n",
    "    print(row)"
   ]
  },
  {
   "cell_type": "markdown",
   "metadata": {},
   "source": [
    "Herhalen van deze opdracht levert geen problemen op: het verwijderen van een niet-bestaand element slaagt \"per definitie\". DELETE is een *idempotente* opdracht: deze heeft dezelfde betekenis als je deze eenmaal of vaker uitvoert."
   ]
  },
  {
   "cell_type": "markdown",
   "metadata": {},
   "source": [
    "## Herstel de database\n",
    "\n",
    "Met de bovenstaande opdrachten heb je de leden-tabel mogelijk behoorlijk verziekt.\n",
    "Sluit eerst de database af:"
   ]
  },
  {
   "cell_type": "code",
   "execution_count": null,
   "metadata": {},
   "outputs": [],
   "source": [
    "db.commit()\n",
    "db.close()"
   ]
  },
  {
   "cell_type": "markdown",
   "metadata": {},
   "source": [
    "Met de onderstaande opdracht herstel je de oorspronkelijke tabel weer:"
   ]
  },
  {
   "cell_type": "code",
   "execution_count": null,
   "metadata": {},
   "outputs": [],
   "source": [
    "%%bash\n",
    "sqlite3 example.db\n",
    "\n",
    "DELETE FROM leden\n",
    "WHERE TRUE;\n",
    "\n",
    ".mode csv\n",
    ".import leden.csv leden\n",
    "\n",
    "SELECT * FROM leden;"
   ]
  },
  {
   "cell_type": "code",
   "execution_count": null,
   "metadata": {},
   "outputs": [],
   "source": []
  }
 ],
 "metadata": {
  "kernelspec": {
   "display_name": "Python 3",
   "language": "python",
   "name": "python3"
  },
  "language_info": {
   "codemirror_mode": {
    "name": "ipython",
    "version": 3
   },
   "file_extension": ".py",
   "mimetype": "text/x-python",
   "name": "python",
   "nbconvert_exporter": "python",
   "pygments_lexer": "ipython3",
   "version": "3.7.3"
  }
 },
 "nbformat": 4,
 "nbformat_minor": 4
}
