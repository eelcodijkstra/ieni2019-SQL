{
 "cells": [
  {
   "cell_type": "markdown",
   "metadata": {},
   "source": [
    "## Over deze opdrachten\n",
    "\n",
    "* dit is Jupyter Notebook `python-sqlite-1.ipynb`\n",
    "* voor een inleiding over het gebruik van Jupyter Notebooks: [Inleiding Jupyter Notebook](Inleiding-Jupyter.ipynb)\n",
    "* de hele reeks Python SQlite opdrachten:\n",
    "    * [Python SQLite - init database](python-sqlite-0.ipynb) (om met een schone lei te beginnnen)\n",
    "    * [Python SQLite - selectie en projectie](python-sqlite-1.ipynb)    \n",
    "    * [Python SQLite - joins](python-sqlite-2.ipynb)\n",
    "    * [Python SQLite - CRUD](python-sqlite-3.ipynb)\n",
    "    * [Python SQLite - Schema](python-sqlite-4.ipynb)"
   ]
  },
  {
   "cell_type": "markdown",
   "metadata": {},
   "source": [
    "## Database connection en cursor\n",
    "\n",
    "De eerste stap in het gebruik van database-opdrachten in Python is *altijd* het maken van een verbinding (connection) met de database.\n",
    "Met behulp van deze connection maak je een cursor-object, waarmee je de database-queries kunt uitvoeren.\n",
    "\n",
    "`sqlite3` is de python-library voor SQLite."
   ]
  },
  {
   "cell_type": "code",
   "execution_count": null,
   "metadata": {},
   "outputs": [],
   "source": [
    "import sqlite3\n",
    "db = sqlite3.connect('example.db')\n",
    "cursor = db.cursor()"
   ]
  },
  {
   "cell_type": "markdown",
   "metadata": {},
   "source": [
    "Voor de volledigheid geven we hier een overzicht van de tabellen in de database.\n",
    "Dit is ook een voorbeeld in het gebruik van de cursor voor opdrachten en voor het opvragen van resultaten."
   ]
  },
  {
   "cell_type": "code",
   "execution_count": null,
   "metadata": {},
   "outputs": [],
   "source": [
    "cursor.execute('''SELECT * FROM leden;''')\n",
    "for row in cursor:\n",
    "    print(row)"
   ]
  },
  {
   "cell_type": "code",
   "execution_count": null,
   "metadata": {},
   "outputs": [],
   "source": [
    "cursor.execute('''SELECT * FROM events;''')\n",
    "for row in cursor:\n",
    "    print(row)"
   ]
  },
  {
   "cell_type": "code",
   "execution_count": null,
   "metadata": {},
   "outputs": [],
   "source": [
    "cursor.execute('''SELECT * FROM inschrijvingen;''')\n",
    "for row in cursor:\n",
    "    print(row)"
   ]
  },
  {
   "cell_type": "markdown",
   "metadata": {},
   "source": [
    "----"
   ]
  },
  {
   "cell_type": "markdown",
   "metadata": {},
   "source": [
    "## Selectie\n",
    "\n",
    "Je kunt de rijen van een tabel selecteren op basis van een *voorwaarde*.\n",
    "In de SQL SELECT-opdracht geef je de conditie op na `WHERE`.\n",
    "Dit kunt condities samenstellen met behulp van logische en rekenkundige opereratoren, zoals vergelijkingen.\n",
    "\n",
    "**Opmerking** door de constructie `FROM leden lid` is `lid` een alternatieve naam (*alias*) voor `leden`.\n",
    "We gebruiken dit om de voorwaarde (bij `WHERE`) logischer te formuleren."
   ]
  },
  {
   "cell_type": "code",
   "execution_count": null,
   "metadata": {},
   "outputs": [],
   "source": [
    "cursor.execute('''SELECT * FROM leden lid\n",
    "                  WHERE lid.lidnr > 1;''')\n",
    "for row in cursor:\n",
    "    print(row)"
   ]
  },
  {
   "cell_type": "markdown",
   "metadata": {},
   "source": [
    "### Opdracht\n",
    "\n",
    "Selecteer de rijen in de tabel `events` waarvoor het `eventnr` kleiner dan 4 is.\n",
    "Vervang hieronder de voorwaarde `TRUE`door de juiste voorwaarde."
   ]
  },
  {
   "cell_type": "code",
   "execution_count": null,
   "metadata": {},
   "outputs": [],
   "source": [
    "cursor.execute('''SELECT * FROM inschrijvingen ins\n",
    "                  WHERE TRUE;''')\n",
    "for row in cursor:\n",
    "    print(row)"
   ]
  },
  {
   "cell_type": "markdown",
   "metadata": {},
   "source": [
    "## Projectie\n",
    "\n",
    "Je kunt selectie combineren met *projectie*: daarin geef je aan welke kolommen in het resultaat voorkomen.\n",
    "De andere kolommen worden weggelaten.\n",
    "\n",
    "In de SQL SELECT-opdracht geef je de namen van de kolommen van de projectie als eerste op.\n",
    "De volgorde mag daarbij anders zijn dan in de oorspronkelijke tabel:\n",
    "je kijgt als resultaat een tabel met de kolommen die je opgeeft."
   ]
  },
  {
   "cell_type": "code",
   "execution_count": null,
   "metadata": {},
   "outputs": [],
   "source": [
    "cursor.execute('''SELECT email, achternaam FROM leden;''')\n",
    "for row in cursor:\n",
    "    print(row)"
   ]
  },
  {
   "cell_type": "markdown",
   "metadata": {},
   "source": [
    "Een tabel kan ook uit een enkele kolom bestaan:"
   ]
  },
  {
   "cell_type": "code",
   "execution_count": null,
   "metadata": {},
   "outputs": [],
   "source": [
    "cursor.execute('''SELECT voornaam FROM leden;''')\n",
    "for row in cursor:\n",
    "    print(row)"
   ]
  },
  {
   "cell_type": "markdown",
   "metadata": {},
   "source": [
    "Zoals je ziet komen hierin rijen dubbel voor. Als je geen dubbele rijen wilt, gebruik je `SELECT UNIQUE`."
   ]
  },
  {
   "cell_type": "markdown",
   "metadata": {},
   "source": [
    "### Opdracht\n",
    "\n",
    "Je kunt selectie (van rijen) en projectie (van kolommen) ook combineren:\n",
    "\n",
    "Selecteer de rijen van de leden waarvoor de voornaam voor de \"M\" valt,\n",
    "en druk daarvan de voornaam en de achternaam af (projectie).\n",
    "Vervang in de onderstaande opdracht daarvoor de `*` en de `TRUE`."
   ]
  },
  {
   "cell_type": "code",
   "execution_count": null,
   "metadata": {},
   "outputs": [],
   "source": [
    "cursor.execute('''SELECT * FROM leden lid\n",
    "                  WHERE TRUE;''')\n",
    "for row in cursor:\n",
    "    print(row)"
   ]
  },
  {
   "cell_type": "code",
   "execution_count": null,
   "metadata": {},
   "outputs": [],
   "source": []
  }
 ],
 "metadata": {
  "kernelspec": {
   "display_name": "Python 3",
   "language": "python",
   "name": "python3"
  },
  "language_info": {
   "codemirror_mode": {
    "name": "ipython",
    "version": 3
   },
   "file_extension": ".py",
   "mimetype": "text/x-python",
   "name": "python",
   "nbconvert_exporter": "python",
   "pygments_lexer": "ipython3",
   "version": "3.7.3"
  }
 },
 "nbformat": 4,
 "nbformat_minor": 4
}
