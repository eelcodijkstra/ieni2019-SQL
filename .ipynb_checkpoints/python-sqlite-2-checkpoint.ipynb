{
 "cells": [
  {
   "cell_type": "markdown",
   "metadata": {},
   "source": [
    "## Over deze opdrachten\n",
    "\n",
    "* dit is Jupyter Notebook `python-sqlite-2.ipynb` - voor queries (zoekvragen) op meerdere tabellen (joins).\n",
    "* voor een inleiding over het gebruik van Jupyter Notebooks: [Inleiding Jupyter Notebook](Inleiding-Jupyter.ipynb)\n",
    "* de hele reeks Python SQlite opdrachten:\n",
    "    * [Python SQLite - init database](python-sqlite-0.ipynb) (om met een schone lei te beginnnen)\n",
    "    * [Python SQLite - selectie en projectie](python-sqlite-1.ipynb)    \n",
    "    * [Python SQLite - joins](python-sqlite-2.ipynb)\n",
    "    * [Python SQLite - CRUD](python-sqlite-3.ipynb)\n",
    "    * [Python SQLite - Schema](python-sqlite-4.ipynb)"
   ]
  },
  {
   "cell_type": "markdown",
   "metadata": {},
   "source": [
    "## Database connection en cursor\n",
    "\n",
    "De eerste stap in het gebruik van database-opdrachten in Python is het maken van een verbinding (connection) met de database.\n",
    "Met behulp van deze connection maak je een cursor-object, waarmee je de database-queries kunt uitvoeren."
   ]
  },
  {
   "cell_type": "code",
   "execution_count": null,
   "metadata": {},
   "outputs": [],
   "source": [
    "import sqlite3\n",
    "db = sqlite3.connect('example.db')\n",
    "cursor = db.cursor()"
   ]
  },
  {
   "cell_type": "markdown",
   "metadata": {},
   "source": [
    "----"
   ]
  },
  {
   "cell_type": "markdown",
   "metadata": {},
   "source": [
    "## Cartesisch product\n",
    "\n",
    "Het cartesisch product van twee relaties (tabellen) bevat *alle combinaties* van de rijen van beide tabellen.\n",
    "\n",
    "* vraag: hoeveel rijen heeft een cartesisch product van twee tabellen met elk 1000 rijen? (1000; 2000; 1.000.000?)"
   ]
  },
  {
   "cell_type": "code",
   "execution_count": null,
   "metadata": {},
   "outputs": [],
   "source": [
    "cursor.execute('''SELECT *\n",
    "                  FROM leden, inschrijvingen;''')\n",
    "for row in cursor:\n",
    "    print(row)"
   ]
  },
  {
   "cell_type": "markdown",
   "metadata": {},
   "source": [
    "De meeste van deze combinaties zijn zinloos:\n",
    "we zijn meestal alleen geïnteresseerd in de rijen waarvan de lidnr's gelijk zijn.\n",
    "We selecteren de relevante rijen van het cartesisch product door middel van een `WHERE`-voorwaarde.\n",
    "Dit is een normaal patroon voor een *join*."
   ]
  },
  {
   "cell_type": "code",
   "execution_count": null,
   "metadata": {},
   "outputs": [],
   "source": [
    "cursor.execute('''SELECT *\n",
    "                  FROM leden lid, inschrijvingen ins\n",
    "                  WHERE lid.lidnr=ins.lidnr;''')\n",
    "for row in cursor:\n",
    "    print(row)"
   ]
  },
  {
   "cell_type": "markdown",
   "metadata": {},
   "source": [
    "We kunnen bovenstaande combinatie (join) van tabellen combineren met andere selectie-voorwaarden, en met projectie, zoals hieronder:\n"
   ]
  },
  {
   "cell_type": "code",
   "execution_count": null,
   "metadata": {},
   "outputs": [],
   "source": [
    "cursor.execute('''SELECT lid.voornaam, lid.achternaam, lid.email, \n",
    "                         ins.eventnr, ins.maaltijd\n",
    "                  FROM leden lid, inschrijvingen ins\n",
    "                  WHERE lid.lidnr=ins.lidnr AND lid.voornaam='Hans'; ''')\n",
    "for row in cursor:\n",
    "    print(row)"
   ]
  },
  {
   "cell_type": "markdown",
   "metadata": {},
   "source": [
    "**Opdracht**\n",
    "\n",
    "Maak een query voor alle combinaties van de rijen van leden, inschrijvingen en events (Cartesisch product).\n",
    "Hoeveel rijen verwacht je in het resultaat?"
   ]
  },
  {
   "cell_type": "code",
   "execution_count": null,
   "metadata": {},
   "outputs": [],
   "source": []
  },
  {
   "cell_type": "markdown",
   "metadata": {},
   "source": [
    "**Opdracht**\n",
    "\n",
    "Maak een query voor alle inschrijvingen, met daarbij alle gegevens van de leden en van de events."
   ]
  },
  {
   "cell_type": "code",
   "execution_count": null,
   "metadata": {},
   "outputs": [],
   "source": []
  },
  {
   "cell_type": "markdown",
   "metadata": {},
   "source": [
    "### INNER JOIN\n",
    "Het cartesisch product heet in SQL de `INNER JOIN`.\n",
    "Het resultaat van deze join is een tabel: deze staat in de query bij het `FROM`-deel.\n",
    "De voorwaarde (meestal: gelijke sleutels) staat bij de join als `ON`-voorwaarde.\n",
    "Op deze manier zijn de join-voorwaarde en de selectie-voorwaarde duidelijk gescheiden:"
   ]
  },
  {
   "cell_type": "code",
   "execution_count": null,
   "metadata": {},
   "outputs": [],
   "source": [
    "cursor.execute('''SELECT lid.voornaam, lid.achternaam, lid.email, \n",
    "                         ins.eventnr, ins.maaltijd\n",
    "                  FROM leden lid \n",
    "                       JOIN inschrijvingen ins\n",
    "                       ON lid.lidnr=ins.lidnr                  \n",
    "                  WHERE lid.voornaam='Hans'; ''')\n",
    "for row in cursor:\n",
    "    print(row)"
   ]
  },
  {
   "cell_type": "markdown",
   "metadata": {},
   "source": [
    "### Meer dan 2 tabellen\n",
    "\n",
    "We kunnen een join ook over meer dan twee tabellen uitvoeren.\n",
    "Bij elke tabel geven we dan de join-conditie aan."
   ]
  },
  {
   "cell_type": "code",
   "execution_count": null,
   "metadata": {},
   "outputs": [],
   "source": [
    "cursor.execute('''SELECT lid.voornaam, lid.achternaam, lid.email,\n",
    "                         evt.datum, evt. beschrijving,\n",
    "                         ins.maaltijd\n",
    "                  FROM leden lid \n",
    "                       INNER JOIN inschrijvingen ins \n",
    "                         ON lid.lidnr=ins.lidnr\n",
    "                       INNER JOIN events evt\n",
    "                         ON evt.eventnr=ins.eventnr\n",
    "                  WHERE evt.datum='2019-08-28' ;''')\n",
    "for row in cursor:\n",
    "    print(row)"
   ]
  },
  {
   "cell_type": "markdown",
   "metadata": {},
   "source": [
    "## Normalisatie\n",
    "\n",
    "De tabellen die we hierboven gebruiken zijn in normaalvorm: deze bevatten geen redundante gegevens.\n",
    "Elk basisgegeven komt maar één keer voor.\n",
    "Dat maakt het eenvoudiger om de database te veranderen op een consistende manier.\n",
    "\n",
    "De volgende tabel (als resultaat van een \"join\" bewerking) is niet genormaliseerd:\n",
    "je ziet dat dezelfde voornaam, achternaam, email-adres en event-gegevens meerdere malen voorkomen.\n",
    "Dat is de reden waarom we deze tabel berekenen, en de basisgegevens in verschillende tabellen onderbrengen."
   ]
  },
  {
   "cell_type": "code",
   "execution_count": null,
   "metadata": {},
   "outputs": [],
   "source": [
    "cursor.execute('''SELECT *\n",
    "                  FROM leden lid, inschrijvingen ins, events evt\n",
    "                  WHERE lid.lidnr=ins.lidnr AND evt.eventnr=ins.eventnr;''')\n",
    "for row in cursor:\n",
    "    print(row)"
   ]
  },
  {
   "cell_type": "code",
   "execution_count": null,
   "metadata": {},
   "outputs": [],
   "source": []
  }
 ],
 "metadata": {
  "kernelspec": {
   "display_name": "Python 3",
   "language": "python",
   "name": "python3"
  },
  "language_info": {
   "codemirror_mode": {
    "name": "ipython",
    "version": 3
   },
   "file_extension": ".py",
   "mimetype": "text/x-python",
   "name": "python",
   "nbconvert_exporter": "python",
   "pygments_lexer": "ipython3",
   "version": "3.7.3"
  }
 },
 "nbformat": 4,
 "nbformat_minor": 4
}
