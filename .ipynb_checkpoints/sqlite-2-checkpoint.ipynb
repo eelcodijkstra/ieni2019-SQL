{
 "cells": [
  {
   "cell_type": "markdown",
   "metadata": {},
   "source": [
    "# Over deze opdrachten\n",
    "\n",
    "* dit is Jupyter Notebook `sqlite-2.ipynb` - combineren van meerdere tabellen met *joins*.\n",
    "* voor een inleiding over het gebruik van Jupyter Notebooks: [Inleiding Jupyter Notebook](Inleiding-Jupyter.ipynb)\n",
    "* de hele reeks SQlite opdrachten:\n",
    "    * [SQLite 0 - init database](sqlite-0.ipynb) (om met een schone lei te beginnnen)\n",
    "    * [SQLite 1 - selectie en projectie](sqlite-1.ipynb)    \n",
    "    * [SQLite 2 - joins](sqlite-2.ipynb)\n",
    "    * [SQLite 3 - CRUD](sqlite-3.ipynb)\n",
    "    * [SQLite 4 - Schema](sqlite-4.ipynb)"
   ]
  },
  {
   "cell_type": "markdown",
   "metadata": {},
   "source": [
    "----"
   ]
  },
  {
   "cell_type": "markdown",
   "metadata": {},
   "source": [
    "## Cartesisch product\n",
    "\n",
    "Het cartesisch product van twee relaties (tabellen) bevat *alle combinaties* van de rijen van beide tabellen.\n",
    "\n",
    "* vraag: hoeveel rijen heeft een cartesisch product van twee tabellen met elk 1000 rijen? (1000; 2000; 1.000.000?)"
   ]
  },
  {
   "cell_type": "code",
   "execution_count": null,
   "metadata": {},
   "outputs": [],
   "source": [
    "%%bash\n",
    "sqlite3 example.db\n",
    "\n",
    "SELECT *\n",
    "FROM leden, inschrijvingen;"
   ]
  },
  {
   "cell_type": "markdown",
   "metadata": {},
   "source": [
    "## Join\n",
    "\n",
    "De meeste van deze combinaties zijn zinloos:\n",
    "we zijn meestal alleen geïnteresseerd in de rijen waarvan de lidnr's gelijk zijn.\n",
    "We selecteren de relevante rijen van het cartesisch product door middel van een `WHERE`-voorwaarde.\n",
    "Dit is een normaal patroon voor een *join*."
   ]
  },
  {
   "cell_type": "code",
   "execution_count": null,
   "metadata": {},
   "outputs": [],
   "source": [
    "%%bash\n",
    "sqlite3 example.db\n",
    "\n",
    "SELECT *\n",
    "FROM leden lid, inschrijvingen ins\n",
    "WHERE lid.lidnr=ins.lidnr;"
   ]
  },
  {
   "cell_type": "markdown",
   "metadata": {},
   "source": [
    "We kunnen bovenstaande combinatie (join) van tabellen combineren met andere selectievoorwaarden en met projectie, zoals hieronder:\n"
   ]
  },
  {
   "cell_type": "code",
   "execution_count": null,
   "metadata": {},
   "outputs": [],
   "source": [
    "%%bash\n",
    "sqlite3 example.db\n",
    "\n",
    "SELECT lid.voornaam\n",
    ",      lid.achternaam\n",
    ",      lid.email\n",
    ",      ins.eventnr\n",
    ",      ins.maaltijd\n",
    "FROM leden lid, inschrijvingen ins\n",
    "WHERE lid.lidnr=ins.lidnr AND lid.voornaam='Hans';"
   ]
  },
  {
   "cell_type": "markdown",
   "metadata": {},
   "source": [
    "**Opdracht**\n",
    "\n",
    "Maak een query voor alle combinaties van de rijen van leden, inschrijvingen en events (Cartesisch product).\n",
    "Hoeveel rijen verwacht je in het resultaat?"
   ]
  },
  {
   "cell_type": "code",
   "execution_count": null,
   "metadata": {},
   "outputs": [],
   "source": []
  },
  {
   "cell_type": "markdown",
   "metadata": {},
   "source": [
    "**Opdracht**\n",
    "\n",
    "Maak een query voor alle inschrijvingen, met daarbij alle gegevens van de leden en van de events."
   ]
  },
  {
   "cell_type": "code",
   "execution_count": null,
   "metadata": {},
   "outputs": [],
   "source": []
  },
  {
   "cell_type": "markdown",
   "metadata": {},
   "source": [
    "### INNER JOIN\n",
    "\n",
    "Het cartesisch product heet in SQL de `INNER JOIN`.\n",
    "Het resultaat van deze join is een tabel: deze staat in de query bij het `FROM`-deel.\n",
    "De voorwaarde (meestal: gelijke sleutels) staat bij de join als `ON`-voorwaarde.\n",
    "Op deze manier zijn de join-voorwaarde en de selectie-voorwaarde duidelijk gescheiden:"
   ]
  },
  {
   "cell_type": "code",
   "execution_count": null,
   "metadata": {},
   "outputs": [],
   "source": [
    "%%bash\n",
    "sqlite3 example.db\n",
    "\n",
    "SELECT lid.voornaam\n",
    ",      lid.achternaam\n",
    ",      lid.email\n",
    ",      ins.eventnr\n",
    ",      ins.maaltijd\n",
    "FROM leden lid \n",
    "     JOIN inschrijvingen ins\n",
    "     ON lid.lidnr=ins.lidnr                  \n",
    "WHERE lid.voornaam='Hans'; \n"
   ]
  },
  {
   "cell_type": "markdown",
   "metadata": {},
   "source": [
    "### Meer dan 2 tabellen\n",
    "\n",
    "We kunnen een join ook over meer dan twee tabellen uitvoeren.\n",
    "Bij elke tabel geven we dan de join-conditie aan."
   ]
  },
  {
   "cell_type": "markdown",
   "metadata": {},
   "source": [
    "## (De)normalisatie\n",
    "\n",
    "De tabellen die we hierboven gebruiken zijn in *normaalvorm*:\n",
    "Elk basisgegeven komt maar één keer voor.\n",
    "Deze tabellen bevatten geen redundante (overtollige) gegevens.\n",
    "Dat maakt het eenvoudiger om de database te veranderen op een consistende manier.\n",
    "\n",
    "De volgende tabel (als resultaat van een \"join\" bewerking) is niet genormaliseerd:\n",
    "je ziet dat dezelfde voornaam, achternaam, email-adres en event-gegevens meerdere malen voorkomen.\n",
    "Dit is een manier van werken die je veel tegenkomt in relationele databases:\n",
    "\n",
    "* basisgegevens breng je onder in genormaliseerde tabellen; veranderingen in de basisgegevens hoef je dan maar op één plek in te voeren;\n",
    "* niet-genormaliseerde tabellen, bijvoorbeeld voor rapportages, reken je uit als dat nodig is."
   ]
  },
  {
   "cell_type": "code",
   "execution_count": null,
   "metadata": {},
   "outputs": [],
   "source": [
    "%%bash\n",
    "sqlite3 example.db\n",
    "\n",
    "SELECT *\n",
    "FROM leden lid, inschrijvingen ins, events evt\n",
    "WHERE lid.lidnr=ins.lidnr AND evt.eventnr=ins.eventnr;"
   ]
  },
  {
   "cell_type": "markdown",
   "metadata": {},
   "source": [
    "Meestal gebruik je maar een deel van de kolommen, zoals in de onderstaande projectie:"
   ]
  },
  {
   "cell_type": "code",
   "execution_count": null,
   "metadata": {},
   "outputs": [],
   "source": [
    "%%bash\n",
    "sqlite3 example.db\n",
    "\n",
    "SELECT lid.voornaam\n",
    ",      lid.achternaam\n",
    ",      evt.beschrijving\n",
    ",      evt.datum\n",
    ",      ins.maaltijd\n",
    "FROM leden lid, inschrijvingen ins, events evt\n",
    "WHERE lid.lidnr=ins.lidnr AND evt.eventnr=ins.eventnr;"
   ]
  },
  {
   "cell_type": "code",
   "execution_count": null,
   "metadata": {},
   "outputs": [],
   "source": []
  }
 ],
 "metadata": {
  "kernelspec": {
   "display_name": "Python 3",
   "language": "python",
   "name": "python3"
  },
  "language_info": {
   "codemirror_mode": {
    "name": "ipython",
    "version": 3
   },
   "file_extension": ".py",
   "mimetype": "text/x-python",
   "name": "python",
   "nbconvert_exporter": "python",
   "pygments_lexer": "ipython3",
   "version": "3.7.3"
  }
 },
 "nbformat": 4,
 "nbformat_minor": 4
}
