{
 "cells": [
  {
   "cell_type": "markdown",
   "metadata": {},
   "source": [
    "## Over deze opdrachten\n",
    "\n",
    "* dit is Jupyter Notebook `sqlite-1.ipynb` - queries voor selectie en projectie.\n",
    "* voor een inleiding over het gebruik van Jupyter Notebooks: [Inleiding Jupyter Notebook](Inleiding-Jupyter.ipynb)\n",
    "* de hele reeks SQlite opdrachten:\n",
    "    * [SQLite 0 - init database](sqlite-0.ipynb) (om met een schone lei te beginnnen)\n",
    "    * [SQLite 1 - selectie en projectie](sqlite-1.ipynb)    \n",
    "    * [SQLite 2 - joins](sqlite-2.ipynb)\n",
    "    * [SQLite 3 - CRUD](sqlite-3.ipynb)\n",
    "    * [SQLite 4 - Schema](sqlite-4.ipynb)"
   ]
  },
  {
   "cell_type": "markdown",
   "metadata": {},
   "source": [
    "## Database tabellen\n",
    "\n",
    "Voor de volledigheid geven we hier een overzicht van de tabellen in de database."
   ]
  },
  {
   "cell_type": "code",
   "execution_count": null,
   "metadata": {},
   "outputs": [],
   "source": [
    "%%bash\n",
    "sqlite3 example.db\n",
    "\n",
    "SELECT * FROM leden;"
   ]
  },
  {
   "cell_type": "code",
   "execution_count": null,
   "metadata": {},
   "outputs": [],
   "source": [
    "%%bash\n",
    "sqlite3 example.db\n",
    "\n",
    "SELECT * FROM events;"
   ]
  },
  {
   "cell_type": "code",
   "execution_count": null,
   "metadata": {},
   "outputs": [],
   "source": [
    "%%bash\n",
    "sqlite3 example.db\n",
    "\n",
    "SELECT * from inschrijvingen;"
   ]
  },
  {
   "cell_type": "markdown",
   "metadata": {},
   "source": [
    "----"
   ]
  },
  {
   "cell_type": "markdown",
   "metadata": {},
   "source": [
    "## Selectie\n",
    "\n",
    "Je kunt de rijen van een tabel selecteren op basis van een *voorwaarde*.\n",
    "In de SQL SELECT-opdracht geef je de conditie op na `WHERE`.\n",
    "Dit kunt condities samenstellen met behulp van logische en rekenkundige opereratoren, zoals vergelijkingen.\n",
    "\n",
    "**Opmerking:** door de constructie `FROM leden lid` is `lid` een alternatieve naam (*alias*) voor `leden`.\n",
    "We gebruiken dit om de voorwaarde (bij `WHERE`) logischer te formuleren."
   ]
  },
  {
   "cell_type": "code",
   "execution_count": null,
   "metadata": {},
   "outputs": [],
   "source": [
    "%%bash\n",
    "sqlite3 example.db\n",
    "\n",
    "SELECT * FROM leden lid\n",
    "WHERE lid.lidnr > 1;"
   ]
  },
  {
   "cell_type": "markdown",
   "metadata": {},
   "source": [
    "### Opdracht\n",
    "\n",
    "Selecteer de rijen in de tabel `events` waarvoor het `eventnr` kleiner dan 4 is.\n",
    "Vervang hieronder de voorwaarde `TRUE`door de juiste voorwaarde."
   ]
  },
  {
   "cell_type": "code",
   "execution_count": null,
   "metadata": {},
   "outputs": [],
   "source": [
    "%%bash\n",
    "sqlite3 example.db\n",
    "\n",
    "SELECT * FROM inschrijvingen ins\n",
    "WHERE TRUE;"
   ]
  },
  {
   "cell_type": "markdown",
   "metadata": {},
   "source": [
    "## Projectie\n",
    "\n",
    "Je kunt selectie combineren met *projectie*: daarin geef je aan welke kolommen in het resultaat voorkomen.\n",
    "De andere kolommen worden weggelaten.\n",
    "\n",
    "In de SQL SELECT-opdracht geef je de namen van de kolommen van de projectie als eerste op.\n",
    "De volgorde mag daarbij anders zijn dan in de oorspronkelijke tabel:\n",
    "je kijgt als resultaat een tabel met de kolommen die je opgeeft.\n",
    "\n",
    "**Opmerking:** In de praktijk is het handig om *altijd* de namen van de geselecteerde kolommen op te geven, \n",
    "in plaats van `*`. Je weet dan zeker wat je als resultaat kunt verwachten, \n",
    "ook als er in de definitie van de tabel bijvoorbeeld een kolom bij gekomen is, of als de volgorde van de kolommen veranderd is."
   ]
  },
  {
   "cell_type": "code",
   "execution_count": null,
   "metadata": {},
   "outputs": [],
   "source": [
    "%%bash\n",
    "sqlite3 example.db\n",
    "\n",
    "SELECT email, achternaam FROM leden;"
   ]
  },
  {
   "cell_type": "markdown",
   "metadata": {},
   "source": [
    "Een tabel kan ook uit een enkele kolom bestaan:"
   ]
  },
  {
   "cell_type": "code",
   "execution_count": null,
   "metadata": {},
   "outputs": [],
   "source": [
    "%%bash\n",
    "sqlite3 example.db\n",
    "\n",
    "SELECT voornaam FROM leden;"
   ]
  },
  {
   "cell_type": "markdown",
   "metadata": {},
   "source": [
    "Zoals je ziet komen hierin rijen dubbel voor. Als je geen dubbele rijen wilt, gebruik je `SELECT UNIQUE`."
   ]
  },
  {
   "cell_type": "markdown",
   "metadata": {},
   "source": [
    "Als je een lange lijst met kolomnamen hebt, noteer je deze onder elkaar, *met de komma vooraan*.\n",
    "Op die manier kun je de lijst gemakkelijk aanpassen."
   ]
  },
  {
   "cell_type": "code",
   "execution_count": null,
   "metadata": {},
   "outputs": [],
   "source": [
    "%%bash\n",
    "sqlite3 example.db\n",
    "\n",
    "SELECT voornaam\n",
    ",      achternaam\n",
    ",      email\n",
    "FROM leden;"
   ]
  },
  {
   "cell_type": "markdown",
   "metadata": {},
   "source": [
    "### Opdracht\n",
    "\n",
    "Je kunt selectie (van rijen) en projectie (van kolommen) ook combineren:\n",
    "\n",
    "Selecteer de rijen van de leden waarvoor de voornaam voor de \"M\" valt,\n",
    "en druk daarvan de voornaam en de achternaam af (projectie).\n",
    "Vervang in de onderstaande opdracht daarvoor de `*` en de `TRUE`."
   ]
  },
  {
   "cell_type": "code",
   "execution_count": null,
   "metadata": {},
   "outputs": [],
   "source": [
    "%%bash\n",
    "sqlite3 example.db\n",
    "\n",
    "SELECT * FROM leden lid\n",
    "WHERE TRUE;"
   ]
  },
  {
   "cell_type": "code",
   "execution_count": null,
   "metadata": {},
   "outputs": [],
   "source": []
  },
  {
   "cell_type": "code",
   "execution_count": null,
   "metadata": {},
   "outputs": [],
   "source": []
  }
 ],
 "metadata": {
  "kernelspec": {
   "display_name": "Python 3",
   "language": "python",
   "name": "python3"
  },
  "language_info": {
   "codemirror_mode": {
    "name": "ipython",
    "version": 3
   },
   "file_extension": ".py",
   "mimetype": "text/x-python",
   "name": "python",
   "nbconvert_exporter": "python",
   "pygments_lexer": "ipython3",
   "version": "3.7.3"
  }
 },
 "nbformat": 4,
 "nbformat_minor": 4
}
