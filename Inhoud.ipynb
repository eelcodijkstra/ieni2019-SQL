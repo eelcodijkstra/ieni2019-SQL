{
 "cells": [
  {
   "cell_type": "markdown",
   "metadata": {},
   "source": [
    "# Inhoud Python-SQLite notebooks\n",
    "\n",
    "Deze Jupyter Notebooks geven een aantal voorbeelden van SQL-opdrachten met SQLite.\n",
    "Er zijn twee versies: met SQLite commandoregel-opdrachten; en met SQL-opdrachten in Python.\n",
    "Als je begint met SQL kun je het beste met de SQLite-commandoregel-versie beginnen.\n",
    "\n",
    "Als je nog niet bekend bent met Jupyter Notebooks, neem dan eerst de volgende inleiding Jupyter door.\n",
    "\n",
    "* [Inleiding Jupyter](Inleiding-Jupyter.ipynb) - inleiding Jupyter Notebooks\n",
    "\n",
    "## SQLite commandoregel-versie\n",
    "\n",
    "De SQLite-versie gebruikt SQL-opdrachten via de SQLite commandoregel. \n",
    "Hiervoor begint *elke Notebook-cel* eerst met het opstarten van `sqlite3`, via de regels:\n",
    "\n",
    "``` bash\n",
    "%%bash\n",
    "sqlite3 example.db\n",
    "```\n",
    "Daarna kun je de SQL-opdrachten geven.\n",
    "\n",
    "De reeks SQLite notebooks:\n",
    "\n",
    "* [SQLite 0 - init database](sqlite-0.ipynb) (om met een schone lei te beginnnen)\n",
    "* [SQLite 1 - selectie en projectie](sqlite-1.ipynb)    \n",
    "* [SQLite 2 - joins](sqlite-2.ipynb)\n",
    "* [SQLite 3 - CRUD](sqlite-3.ipynb)\n",
    "* [SQLite 4 - Schema](sqlite-4.ipynb)\n",
    "\n",
    "## SQLite in Python\n",
    "\n",
    "In de praktijk gebruik je een database vaak vanuit een programmeertaal, als onderdeel van een toepassing.\n",
    "Deze notebooks laten zien hoe je SQL (SQLite) vanuit Python kunt gebruiken.\n",
    "Een complete toepassing met dezelfde database is te vinden op *glitch.com* [REF]\n",
    "\n",
    "* [Python SQLite - init database](python-sqlite-0.ipynb) (om met een schone lei te beginnnen)\n",
    "* [Python SQLite - selectie en projectie](python-sqlite-1.ipynb)    \n",
    "* [Python SQLite - joins](python-sqlite-2.ipynb)\n",
    "* [Python SQLite - CRUD](python-sqlite-3.ipynb)\n",
    "* [Python SQLite - Schema](python-sqlite-4.ipynb)\n",
    "\n",
    "De opdrachten in beide reeksen zijn gelijk: je kunt dan deze versies ook onderling vergelijken."
   ]
  },
  {
   "cell_type": "code",
   "execution_count": null,
   "metadata": {},
   "outputs": [],
   "source": []
  }
 ],
 "metadata": {
  "kernelspec": {
   "display_name": "Python 3",
   "language": "python",
   "name": "python3"
  },
  "language_info": {
   "codemirror_mode": {
    "name": "ipython",
    "version": 3
   },
   "file_extension": ".py",
   "mimetype": "text/x-python",
   "name": "python",
   "nbconvert_exporter": "python",
   "pygments_lexer": "ipython3",
   "version": "3.7.3"
  }
 },
 "nbformat": 4,
 "nbformat_minor": 4
}
